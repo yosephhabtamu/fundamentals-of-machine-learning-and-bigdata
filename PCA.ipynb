{
 "cells": [
  {
   "cell_type": "code",
   "execution_count": 1,
   "id": "55a08be5",
   "metadata": {},
   "outputs": [],
   "source": [
    "import matplotlib.pyplot as plt\n",
    "import numpy as np\n",
    "import pandas as pd\n",
    "%matplotlib inline"
   ]
  },
  {
   "cell_type": "code",
   "execution_count": 2,
   "id": "9f937879",
   "metadata": {},
   "outputs": [
    {
     "name": "stdout",
     "output_type": "stream",
     "text": [
      "     sepal length  sepal width  petal length  petal width  class\n",
      "0             5.1          3.5           1.4          0.2      0\n",
      "1             4.9          3.0           1.4          0.2      0\n",
      "2             4.7          3.2           1.3          0.2      0\n",
      "3             4.6          3.1           1.5          0.2      0\n",
      "4             5.0          3.6           1.4          0.2      0\n",
      "..            ...          ...           ...          ...    ...\n",
      "145           6.7          3.0           5.2          2.3      2\n",
      "146           6.3          2.5           5.0          1.9      2\n",
      "147           6.5          3.0           5.2          2.0      2\n",
      "148           6.2          3.4           5.4          2.3      2\n",
      "149           5.9          3.0           5.1          1.8      2\n",
      "\n",
      "[150 rows x 5 columns]\n"
     ]
    }
   ],
   "source": [
    "df = pd.read_csv(\"iris.data\")\n",
    "df = df.replace(to_replace=[\"Iris-setosa\",\"Iris-versicolor\",\"Iris-virginica\"],value=[0,1,2])\n",
    "print(df)\n",
    "\n"
   ]
  },
  {
   "cell_type": "code",
   "execution_count": 3,
   "id": "20e76591",
   "metadata": {},
   "outputs": [],
   "source": [
    "from sklearn.preprocessing import StandardScaler\n"
   ]
  },
  {
   "cell_type": "code",
   "execution_count": 4,
   "id": "6a5c2c51",
   "metadata": {
    "scrolled": true
   },
   "outputs": [
    {
     "data": {
      "text/plain": [
       "StandardScaler()"
      ]
     },
     "execution_count": 4,
     "metadata": {},
     "output_type": "execute_result"
    }
   ],
   "source": [
    "scaler = StandardScaler()\n",
    "scaler.fit(df[df.columns[:-1]])\n"
   ]
  },
  {
   "cell_type": "code",
   "execution_count": 5,
   "id": "1fbbd03c",
   "metadata": {},
   "outputs": [],
   "source": [
    "scaled_data = scaler.transform(df[df.columns[:-1]])"
   ]
  },
  {
   "cell_type": "code",
   "execution_count": 6,
   "id": "94d0f938",
   "metadata": {},
   "outputs": [],
   "source": [
    "from sklearn.decomposition import PCA"
   ]
  },
  {
   "cell_type": "code",
   "execution_count": 7,
   "id": "08f130f9",
   "metadata": {},
   "outputs": [],
   "source": [
    "pca = PCA(n_components=2,whiten = True)"
   ]
  },
  {
   "cell_type": "code",
   "execution_count": 8,
   "id": "978483d3",
   "metadata": {},
   "outputs": [
    {
     "data": {
      "text/plain": [
       "PCA(n_components=2, whiten=True)"
      ]
     },
     "execution_count": 8,
     "metadata": {},
     "output_type": "execute_result"
    }
   ],
   "source": [
    "pca.fit(scaled_data)"
   ]
  },
  {
   "cell_type": "code",
   "execution_count": 9,
   "id": "4250141d",
   "metadata": {},
   "outputs": [],
   "source": [
    "x_pca = pca.transform(scaled_data)"
   ]
  },
  {
   "cell_type": "code",
   "execution_count": 10,
   "id": "272f8a79",
   "metadata": {},
   "outputs": [
    {
     "name": "stdout",
     "output_type": "stream",
     "text": [
      "before the pca is applied:  (150, 4)\n"
     ]
    }
   ],
   "source": [
    "print(\"before the pca is applied: \",scaled_data.shape)"
   ]
  },
  {
   "cell_type": "code",
   "execution_count": 11,
   "id": "4283be26",
   "metadata": {},
   "outputs": [
    {
     "name": "stdout",
     "output_type": "stream",
     "text": [
      "after pca is applied:  (150, 2)\n"
     ]
    }
   ],
   "source": [
    "print(\"after pca is applied: \", x_pca.shape)"
   ]
  },
  {
   "cell_type": "code",
   "execution_count": 12,
   "id": "081d95d8",
   "metadata": {
    "scrolled": false
   },
   "outputs": [
    {
     "name": "stdout",
     "output_type": "stream",
     "text": [
      "[[-1.32287954e+00  5.25124053e-01]\n",
      " [-1.21882921e+00 -6.80573723e-01]\n",
      " [-1.38328791e+00 -3.30707545e-01]\n",
      " [-1.34604509e+00 -5.97463108e-01]\n",
      " [-1.39545447e+00  7.00679960e-01]\n",
      " [-1.20954750e+00  1.57686419e+00]\n",
      " [-1.42871357e+00  7.74260470e-02]\n",
      " [-1.30494557e+00  2.57122855e-01]\n",
      " [-1.36810369e+00 -1.13720241e+00]\n",
      " [-1.27856084e+00 -4.65857398e-01]\n",
      " [-1.26384604e+00  1.11170882e+00]\n",
      " [-1.35958652e+00  1.64677564e-01]\n",
      " [-1.29924457e+00 -7.36349867e-01]\n",
      " [-1.54204561e+00 -9.74314089e-01]\n",
      " [-1.28067306e+00  1.96255788e+00]\n",
      " [-1.31524062e+00  2.82691616e+00]\n",
      " [-1.28678289e+00  1.57188165e+00]\n",
      " [-1.27943909e+00  5.34054733e-01]\n",
      " [-1.10646322e+00  1.48606853e+00]\n",
      " [-1.36693032e+00  1.20250448e+00]\n",
      " [-1.11842827e+00  4.46995979e-01]\n",
      " [-1.28788984e+00  9.89033789e-01]\n",
      " [-1.62058946e+00  5.08315565e-01]\n",
      " [-1.06343159e+00  1.10850260e-01]\n",
      " [-1.30165998e+00  1.68414471e-01]\n",
      " [-1.14323662e+00 -6.31236989e-01]\n",
      " [-1.19875582e+00  2.76229851e-01]\n",
      " [-1.26659579e+00  5.73215152e-01]\n",
      " [-1.25030461e+00  3.49568147e-01]\n",
      " [-1.32536137e+00 -3.26970639e-01]\n",
      " [-1.25278644e+00 -5.02526546e-01]\n",
      " [-1.07016506e+00  4.62366069e-01]\n",
      " [-1.52363640e+00  1.89869269e+00]\n",
      " [-1.42418012e+00  2.26931550e+00]\n",
      " [-1.27856084e+00 -4.65857398e-01]\n",
      " [-1.29167206e+00 -1.91416791e-01]\n",
      " [-1.19428878e+00  7.11260271e-01]\n",
      " [-1.27856084e+00 -4.65857398e-01]\n",
      " [-1.42301257e+00 -9.16046675e-01]\n",
      " [-1.26797067e+00  3.03968319e-01]\n",
      " [-1.33572284e+00  4.85963635e-01]\n",
      " [-1.09339703e+00 -2.41708012e+00]\n",
      " [-1.49421262e+00 -4.71243935e-01]\n",
      " [-1.14747494e+00  5.16492581e-01]\n",
      " [-1.24625448e+00  1.21641770e+00]\n",
      " [-1.21236366e+00 -7.18488507e-01]\n",
      " [-1.39106193e+00  1.19481943e+00]\n",
      " [-1.40095397e+00 -3.76307373e-01]\n",
      " [-1.30082095e+00  1.06486336e+00]\n",
      " [-1.28865439e+00  3.34758500e-02]\n",
      " [ 6.44921045e-01  8.96257876e-01]\n",
      " [ 4.27894395e-01  6.21624506e-01]\n",
      " [ 7.25604317e-01  6.38432994e-01]\n",
      " [ 2.32095381e-01 -1.82568653e+00]\n",
      " [ 6.26578249e-01 -2.19889875e-01]\n",
      " [ 2.24589289e-01 -6.13760577e-01]\n",
      " [ 4.37377613e-01  8.08602364e-01]\n",
      " [-2.90837339e-01 -1.91986943e+00]\n",
      " [ 5.41072221e-01  3.14955977e-02]\n",
      " [ 2.90217633e-03 -1.06893240e+00]\n",
      " [-7.28446372e-02 -2.76013818e+00]\n",
      " [ 2.56293399e-01 -6.11424568e-02]\n",
      " [ 3.22248559e-01 -1.84065262e+00]\n",
      " [ 4.18947014e-01 -1.92555403e-01]\n",
      " [-2.17652658e-02 -4.49415390e-01]\n",
      " [ 5.11669826e-01  5.29583210e-01]\n",
      " [ 2.03295238e-01 -1.97941940e-01]\n",
      " [ 8.96074718e-02 -8.21091066e-01]\n",
      " [ 7.09944857e-01 -1.69608012e+00]\n",
      " [ 9.16804791e-02 -1.35314532e+00]\n",
      " [ 4.31267786e-01  4.17926136e-01]\n",
      " [ 2.75944656e-01 -4.32606901e-01]\n",
      " [ 7.17355068e-01 -9.77048006e-01]\n",
      " [ 3.67666137e-01 -4.32818133e-01]\n",
      " [ 4.09195876e-01 -6.59322352e-02]\n",
      " [ 5.10294951e-01  2.60336377e-01]\n",
      " [ 7.32680196e-01 -8.57928947e-02]\n",
      " [ 7.93444292e-01  3.41447693e-01]\n",
      " [ 3.86794869e-01 -2.32961457e-01]\n",
      " [-2.76204876e-02 -1.09781171e+00]\n",
      " [ 7.09967569e-02 -1.62363779e+00]\n",
      " [ 8.24745783e-03 -1.63381411e+00]\n",
      " [ 1.37870680e-01 -8.05720977e-01]\n",
      " [ 6.17288458e-01 -6.61359704e-01]\n",
      " [ 1.29345436e-01 -2.91632867e-01]\n",
      " [ 2.52235189e-01  8.87976073e-01]\n",
      " [ 6.13036819e-01  5.42250797e-01]\n",
      " [ 6.05129981e-01 -1.44594028e+00]\n",
      " [ 3.91789450e-02 -2.20785842e-01]\n",
      " [ 1.60895329e-01 -1.38088379e+00]\n",
      " [ 1.59090240e-01 -1.16243056e+00]\n",
      " [ 3.64038140e-01  2.86003315e-02]\n",
      " [ 1.92779554e-01 -1.02687671e+00]\n",
      " [-2.18262411e-01 -2.09542534e+00]\n",
      " [ 1.65287872e-01 -8.86744317e-01]\n",
      " [ 5.20222420e-02 -1.81625424e-01]\n",
      " [ 1.31062720e-01 -3.95096114e-01]\n",
      " [ 3.35246073e-01 -1.59623162e-01]\n",
      " [-2.66973654e-01 -1.59858336e+00]\n",
      " [ 1.47353899e-01 -6.18743119e-01]\n",
      " [ 1.07935669e+00  9.05171745e-01]\n",
      " [ 6.73660011e-01 -7.28258591e-01]\n",
      " [ 1.28888533e+00  5.75762986e-01]\n",
      " [ 8.40438250e-01 -5.19310371e-02]\n",
      " [ 1.09116753e+00  3.02375251e-01]\n",
      " [ 1.60892177e+00  8.18709750e-01]\n",
      " [ 2.09351965e-01 -1.62000567e+00]\n",
      " [ 1.34534919e+00  4.25243044e-01]\n",
      " [ 1.16935565e+00 -7.51663393e-01]\n",
      " [ 1.32463957e+00  1.99523066e+00]\n",
      " [ 7.97924639e-01  7.20597182e-01]\n",
      " [ 9.34127113e-01 -4.44694540e-01]\n",
      " [ 1.10072524e+00  4.30244054e-01]\n",
      " [ 7.32016767e-01 -1.21222175e+00]\n",
      " [ 8.55262243e-01 -4.61203820e-01]\n",
      " [ 9.29888787e-01  7.03035030e-01]\n",
      " [ 8.59479178e-01  2.62915624e-01]\n",
      " [ 1.42384576e+00  2.65494249e+00]\n",
      " [ 1.93310422e+00 -2.45200003e-03]\n",
      " [ 7.32539292e-01 -1.78354287e+00]\n",
      " [ 1.19199868e+00  9.42244888e-01]\n",
      " [ 5.68932939e-01 -5.93108738e-01]\n",
      " [ 1.69296512e+00  4.13067429e-01]\n",
      " [ 7.76476370e-01 -5.05453225e-01]\n",
      " [ 9.95567951e-01  1.05309397e+00]\n",
      " [ 1.14364767e+00  1.04186478e+00]\n",
      " [ 6.84592595e-01 -3.31142954e-01]\n",
      " [ 5.95726489e-01  6.80599581e-02]\n",
      " [ 1.04333453e+00 -2.00694904e-01]\n",
      " [ 1.08934913e+00  5.76709413e-01]\n",
      " [ 1.42274688e+00  2.56126546e-01]\n",
      " [ 1.35298811e+00  2.72703515e+00]\n",
      " [ 1.08677498e+00 -1.91764224e-01]\n",
      " [ 6.49172684e-01 -3.07352625e-01]\n",
      " [ 6.99526720e-01 -8.48548794e-01]\n",
      " [ 1.63623334e+00  8.77188396e-01]\n",
      " [ 9.23080827e-01  1.11365989e+00]\n",
      " [ 7.86904250e-01  4.38471531e-01]\n",
      " [ 5.39442740e-01  1.99688594e-02]\n",
      " [ 1.08279126e+00  6.98245252e-01]\n",
      " [ 1.17778051e+00  6.33837636e-01]\n",
      " [ 1.11174562e+00  7.12369706e-01]\n",
      " [ 6.73660011e-01 -7.28258591e-01]\n",
      " [ 1.19364148e+00  8.97890696e-01]\n",
      " [ 1.16932976e+00  1.08881669e+00]\n",
      " [ 1.09270470e+00  3.97523045e-01]\n",
      " [ 9.10425722e-01 -9.40079650e-01]\n",
      " [ 8.88433539e-01  2.77040078e-01]\n",
      " [ 8.04047779e-01  1.05539248e+00]\n",
      " [ 5.60394381e-01 -2.31396975e-02]]\n"
     ]
    }
   ],
   "source": [
    "print(x_pca)"
   ]
  },
  {
   "cell_type": "code",
   "execution_count": 13,
   "id": "ca486d06",
   "metadata": {
    "scrolled": false
   },
   "outputs": [
    {
     "data": {
      "text/plain": [
       "[]"
      ]
     },
     "execution_count": 13,
     "metadata": {},
     "output_type": "execute_result"
    },
    {
     "data": {
      "image/png": "[encoded data removed]",
      "text/plain": [
       "<Figure size 576x432 with 1 Axes>"
      ]
     },
     "metadata": {
      "needs_background": "light"
     },
     "output_type": "display_data"
    }
   ],
   "source": [
    "plt.figure(figsize=(8,6))\n",
    "plt.scatter(x_pca[:,0], x_pca[:,1], c = df['class'])\n",
    "plt.xlabel(\"first pricincipal component\")\n",
    "plt.ylabel(\"second pricincipal component\")\n",
    "plt.plot()\n"
   ]
  },
  {
   "cell_type": "code",
   "execution_count": 14,
   "id": "55a51610",
   "metadata": {},
   "outputs": [
    {
     "name": "stdout",
     "output_type": "stream",
     "text": [
      "the eigen vectors:  [[ 0.52237162 -0.26335492  0.58125401  0.56561105]\n",
      " [ 0.37231836  0.92555649  0.02109478  0.06541577]]\n"
     ]
    }
   ],
   "source": [
    "print(\"the eigen vectors: \", pca.components_)"
   ]
  },
  {
   "cell_type": "code",
   "execution_count": 15,
   "id": "e66e88b3",
   "metadata": {},
   "outputs": [
    {
     "name": "stdout",
     "output_type": "stream",
     "text": [
      "the eigen values:  [2.93035378 0.92740362]\n"
     ]
    }
   ],
   "source": [
    "print(\"the eigen values: \", pca.explained_variance_)"
   ]
  },
  {
   "cell_type": "code",
   "execution_count": 16,
   "id": "b041f552",
   "metadata": {},
   "outputs": [
    {
     "name": "stdout",
     "output_type": "stream",
     "text": [
      "the covariance matrix is: \n",
      " [[ 2.46844313 -0.8778554   2.53818432  2.4829396 ]\n",
      " [-0.8778554   1.33254031 -1.261275   -1.19485492]\n",
      " [ 2.53818432 -1.261275    2.90235236  2.74271436]\n",
      " [ 2.4829396  -1.19485492  2.74271436  2.7557407 ]]\n"
     ]
    }
   ],
   "source": [
    "print(\"the covariance matrix is: \\n\", pca.get_covariance())"
   ]
  },
  {
   "cell_type": "code",
   "execution_count": null,
   "id": "74410947",
   "metadata": {},
   "outputs": [],
   "source": []
  },
  {
   "cell_type": "code",
   "execution_count": null,
   "id": "51322aae",
   "metadata": {},
   "outputs": [],
   "source": []
  }
 ],
 "metadata": {
  "kernelspec": {
   "display_name": "Python 3 (ipykernel)",
   "language": "python",
   "name": "python3"
  },
  "language_info": {
   "codemirror_mode": {
    "name": "ipython",
    "version": 3
   },
   "file_extension": ".py",
   "mimetype": "text/x-python",
   "name": "python",
   "nbconvert_exporter": "python",
   "pygments_lexer": "ipython3",
   "version": "3.9.7"
  }
 },
 "nbformat": 4,
 "nbformat_minor": 5
}
